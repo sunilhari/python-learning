{
 "cells": [
  {
   "cell_type": "markdown",
   "metadata": {},
   "source": [
    "### How to read from files and using the data across.\n",
    "\n",
    "#### Will try to read the readme file here for instance.\n"
   ]
  },
  {
   "cell_type": "code",
   "execution_count": 19,
   "metadata": {},
   "outputs": [
    {
     "name": "stdout",
     "output_type": "stream",
     "text": [
      "# Python-learning\n",
      "\n",
      "#### _This repository is used to store my python learning jupyter notebooks_.\n",
      "\n",
      "\n",
      "\n",
      "## Prerequistes\n",
      "\n",
      "\n",
      "\n",
      "    * Python > 3\n",
      "\n",
      "    * virtualenv\n",
      "\n",
      "    * jupyter\n",
      "\n",
      "    * Patience :)\n",
      "\n",
      "## Steps\n",
      "\n",
      "    * Python should be installed and the it should be set so that it could easily accessed from command line\n",
      "\n",
      "    * Create a virtual env by the following command\n",
      "\n",
      "        `virtualenv environmentnam`\n",
      "\n",
      "      This would create an isolated environment which we would use to install the lib's we need\n",
      "\n",
      "\n",
      "\n",
      "    * Install the necessary libraries and init Jupyter notebook inside the virtual environment.\n",
      "\n",
      "      This would provide a beautiful interface in which we can write our python programs.It creates an\n",
      "\n",
      "      isolated kernel using Ipython.\n",
      "\n",
      "\n",
      "\n",
      "\n",
      "\n",
      "\n",
      "\n",
      "\n",
      "-->The below line would read the entire file ino memory and give it back as python list\n",
      "\n",
      "['# Python-learning\\n', '#### _This repository is used to store my python learning jupyter notebooks_.\\n', '\\n', '## Prerequistes\\n', '\\n', '    * Python > 3\\n', '    * virtualenv\\n', '    * jupyter\\n', '    * Patience :)\\n', '## Steps\\n', '    * Python should be installed and the it should be set so that it could easily accessed from command line\\n', '    * Create a virtual env by the following command\\n', '        `virtualenv environmentnam`\\n', \"      This would create an isolated environment which we would use to install the lib's we need\\n\", '\\n', '    * Install the necessary libraries and init Jupyter notebook inside the virtual environment.\\n', '      This would provide a beautiful interface in which we can write our python programs.It creates an\\n', '      isolated kernel using Ipython.\\n', '\\n', '\\n', '\\n']\n",
      "\n",
      "-->This would read the entire file as a single string.\n",
      "\n",
      "# Python-learning\n",
      "#### _This repository is used to store my python learning jupyter notebooks_.\n",
      "\n",
      "## Prerequistes\n",
      "\n",
      "    * Python > 3\n",
      "    * virtualenv\n",
      "    * jupyter\n",
      "    * Patience :)\n",
      "## Steps\n",
      "    * Python should be installed and the it should be set so that it could easily accessed from command line\n",
      "    * Create a virtual env by the following command\n",
      "        `virtualenv environmentnam`\n",
      "      This would create an isolated environment which we would use to install the lib's we need\n",
      "\n",
      "    * Install the necessary libraries and init Jupyter notebook inside the virtual environment.\n",
      "      This would provide a beautiful interface in which we can write our python programs.It creates an\n",
      "      isolated kernel using Ipython.\n",
      "\n",
      "\n",
      "\n",
      "\n"
     ]
    }
   ],
   "source": [
    "def readFile(filename):\n",
    "    file = open(filename,'r')#file name and mode.Read online for more file modes\n",
    "    for line in file:\n",
    "        print(line), # trailing , to inhibit new line\n",
    "    print('\\n-->The below line would read the entire file ino memory and give it back as python list\\n')\n",
    "    file.seek(0) # Have to reset the file pointer to the 0 th position.\n",
    "    lines = file.readlines()\n",
    "    print(lines)\n",
    "    print('\\n-->This would read the entire file as a single string.\\n')\n",
    "    file.seek(0) # Have to reset the file pointer to the 0 th position.\n",
    "    allLines = file.read()\n",
    "    print(allLines),\n",
    "    file.close()# Closes the file stream\n",
    "    \n",
    "    \n",
    "if __name__ == '__main__':\n",
    "    readFile('README.MD')"
   ]
  },
  {
   "cell_type": "code",
   "execution_count": null,
   "metadata": {},
   "outputs": [],
   "source": []
  }
 ],
 "metadata": {
  "kernelspec": {
   "display_name": "Python 3",
   "language": "python",
   "name": "python3"
  },
  "language_info": {
   "codemirror_mode": {
    "name": "ipython",
    "version": 3
   },
   "file_extension": ".py",
   "mimetype": "text/x-python",
   "name": "python",
   "nbconvert_exporter": "python",
   "pygments_lexer": "ipython3",
   "version": "3.6.4"
  }
 },
 "nbformat": 4,
 "nbformat_minor": 2
}
